{
 "cells": [
  {
   "cell_type": "markdown",
   "metadata": {},
   "source": [
    "## 🧪 Full Analysis"
   ]
  },
  {
   "cell_type": "code",
   "execution_count": null,
   "metadata": {},
   "outputs": [],
   "source": [
    "# Imports\n",
    "from   dotenv   import load_dotenv\n",
    "import datetime\n",
    "import json\n",
    "\n",
    "# Custom imports\n",
    "import sys\n",
    "sys.path.append('../')\n",
    "import AnalysisUtils\n",
    "import LLMsUtils\n",
    "import AppUtils"
   ]
  },
  {
   "cell_type": "markdown",
   "metadata": {},
   "source": [
    "##### Initialization"
   ]
  },
  {
   "cell_type": "code",
   "execution_count": null,
   "metadata": {},
   "outputs": [],
   "source": [
    "print(\"⚡ Start - {} ⚡\\n\".format(datetime.datetime.now()))\n",
    "startTime = datetime.datetime.now()"
   ]
  },
  {
   "cell_type": "code",
   "execution_count": null,
   "metadata": {},
   "outputs": [],
   "source": [
    "# Load .env Info\n",
    "load_dotenv()"
   ]
  },
  {
   "cell_type": "markdown",
   "metadata": {},
   "source": [
    "#### 🧪 LLM Analysis "
   ]
  },
  {
   "cell_type": "markdown",
   "metadata": {},
   "source": [
    "Prompt to be used."
   ]
  },
  {
   "cell_type": "code",
   "execution_count": null,
   "metadata": {},
   "outputs": [],
   "source": [
    "prompt = \"\"\"\n",
    "You are an expert in Android app security, with a focus on Smali code analysis. \n",
    "You have to analyze a Smali method extracted from an APK. \n",
    "Your objective is to determine if this method specifically enables the deletion of a user's account, which is a critical component of data privacy compliance. \n",
    "\\n\\n\n",
    "Answer only YES/NO and provide a brief explanation.\n",
    "Answer YES if there is indisputable evidence that the method is designed for this purpose. \n",
    "Answer NO if such evidence is absent.\n",
    "\\n\\n\n",
    "Here is the Smali code to analyze\n",
    "\"\"\""
   ]
  },
  {
   "cell_type": "markdown",
   "metadata": {},
   "source": [
    "Create an interface to communicate with OLLAMA Server"
   ]
  },
  {
   "cell_type": "code",
   "execution_count": null,
   "metadata": {},
   "outputs": [],
   "source": [
    "# LLM INTERFACE\n",
    "ollamaInterface = LLMsUtils.OllamaInterface(\"llama3.1\")"
   ]
  },
  {
   "cell_type": "markdown",
   "metadata": {},
   "source": [
    "Run the Analysis"
   ]
  },
  {
   "cell_type": "code",
   "execution_count": null,
   "metadata": {},
   "outputs": [],
   "source": [
    "# Create an app instance passing the path to the APK\n",
    "app = AppUtils.App(\"./data/regApp.apk\" )\n",
    "#app = AppUtils.App(\"./data/wordPress.apk\" )\n",
    "\n",
    "# Create an analysis instance\n",
    "analysis = AnalysisUtils.Analysis(app, prompt)\n",
    "\n",
    "# Run the analysis\n",
    "analysis.run(ollamaInterface)"
   ]
  },
  {
   "cell_type": "markdown",
   "metadata": {},
   "source": [
    "Save the results"
   ]
  },
  {
   "cell_type": "code",
   "execution_count": null,
   "metadata": {},
   "outputs": [],
   "source": [
    "# Create a JSON object with the results\n",
    "jsonResultObject = {\n",
    "\t\"apkAnalyzed\": app.apkPath,\n",
    "\t\"prompt\": prompt,\n",
    "\t\"numCompliantMethods\": analysis.numCompliantMethods,\n",
    "\t\"compliantMethods\": analysis.compliantMethods\n",
    "}\n",
    "\n",
    "# Specify file paths\n",
    "jsonResultFilePath = './data/regAppResults.json'\n",
    "#jsonResultFilePath = './data/wordPressResults.json'\n",
    "\n",
    "# Save jsonResultObject to a JSON file\n",
    "with open(jsonResultFilePath, 'w') as json_file:\n",
    "    json.dump(jsonResultObject, json_file, indent=4)"
   ]
  },
  {
   "cell_type": "markdown",
   "metadata": {},
   "source": [
    "##### 🔚 End"
   ]
  },
  {
   "cell_type": "code",
   "execution_count": null,
   "metadata": {},
   "outputs": [],
   "source": [
    "endTime = datetime.datetime.now()\n",
    "print(\"\\n🔚 --- End - {} --- 🔚\".format(endTime))\n",
    "\n",
    "# Assuming endTime and startTime are in seconds\n",
    "totalTime = endTime - startTime\n",
    "minutes = totalTime.total_seconds() // 60\n",
    "seconds = totalTime.total_seconds() % 60\n",
    "print(\"⏱️ --- Time: {:02d} minutes and {:02d} seconds --- ⏱️\".format(int(minutes), int(seconds)))"
   ]
  }
 ],
 "metadata": {
  "kernelspec": {
   "display_name": "marcoEnv",
   "language": "python",
   "name": "python3"
  },
  "language_info": {
   "codemirror_mode": {
    "name": "ipython",
    "version": 3
   },
   "file_extension": ".py",
   "mimetype": "text/x-python",
   "name": "python",
   "nbconvert_exporter": "python",
   "pygments_lexer": "ipython3",
   "version": "3.9.19"
  }
 },
 "nbformat": 4,
 "nbformat_minor": 2
}
